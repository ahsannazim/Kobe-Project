{
 "cells": [
  {
   "cell_type": "markdown",
   "metadata": {},
   "source": [
    "### clean data"
   ]
  },
  {
   "cell_type": "code",
   "execution_count": 69,
   "metadata": {},
   "outputs": [],
   "source": [
    "import pandas as pd\n",
    "from sklearn.naive_bayes import BernoulliNB\n",
    "from sklearn.model_selection import train_test_split"
   ]
  },
  {
   "cell_type": "code",
   "execution_count": 70,
   "metadata": {},
   "outputs": [],
   "source": [
    "ALLdata = pd.read_csv('../Kobe-Project-master/data.csv')\n",
    "missing_value = ALLdata['shot_made_flag'].isnull()"
   ]
  },
  {
   "cell_type": "code",
   "execution_count": 71,
   "metadata": {},
   "outputs": [],
   "source": [
    "data = ALLdata.copy() # create a copy of data frame\n",
    "ALL_Y = data['shot_made_flag'].copy()"
   ]
  },
  {
   "cell_type": "code",
   "execution_count": 72,
   "metadata": {},
   "outputs": [
    {
     "name": "stdout",
     "output_type": "stream",
     "text": [
      "(30697, 25)\n",
      "(30697, 24)\n",
      "(30697, 23)\n",
      "(30697, 22)\n"
     ]
    }
   ],
   "source": [
    "print(data.shape)\n",
    "data.drop('team_name', axis=1, inplace=True) # Always LA Lakers\n",
    "print(data.shape)\n",
    "data.drop('team_id', axis=1, inplace=True) # Always one number\n",
    "print(data.shape)\n",
    "data.drop('shot_made_flag', axis=1, inplace=True)\n",
    "print(data.shape)"
   ]
  },
  {
   "cell_type": "code",
   "execution_count": 73,
   "metadata": {},
   "outputs": [
    {
     "data": {
      "text/html": [
       "<div>\n",
       "<style scoped>\n",
       "    .dataframe tbody tr th:only-of-type {\n",
       "        vertical-align: middle;\n",
       "    }\n",
       "\n",
       "    .dataframe tbody tr th {\n",
       "        vertical-align: top;\n",
       "    }\n",
       "\n",
       "    .dataframe thead th {\n",
       "        text-align: right;\n",
       "    }\n",
       "</style>\n",
       "<table border=\"1\" class=\"dataframe\">\n",
       "  <thead>\n",
       "    <tr style=\"text-align: right;\">\n",
       "      <th></th>\n",
       "      <th>action_type</th>\n",
       "      <th>combined_shot_type</th>\n",
       "      <th>game_event_id</th>\n",
       "      <th>game_id</th>\n",
       "      <th>lat</th>\n",
       "      <th>loc_x</th>\n",
       "      <th>loc_y</th>\n",
       "      <th>lon</th>\n",
       "      <th>minutes_remaining</th>\n",
       "      <th>period</th>\n",
       "      <th>...</th>\n",
       "      <th>seconds_remaining</th>\n",
       "      <th>shot_distance</th>\n",
       "      <th>shot_type</th>\n",
       "      <th>shot_zone_area</th>\n",
       "      <th>shot_zone_basic</th>\n",
       "      <th>shot_zone_range</th>\n",
       "      <th>game_date</th>\n",
       "      <th>matchup</th>\n",
       "      <th>opponent</th>\n",
       "      <th>shot_id</th>\n",
       "    </tr>\n",
       "  </thead>\n",
       "  <tbody>\n",
       "  </tbody>\n",
       "</table>\n",
       "<p>0 rows × 22 columns</p>\n",
       "</div>"
      ],
      "text/plain": [
       "Empty DataFrame\n",
       "Columns: [action_type, combined_shot_type, game_event_id, game_id, lat, loc_x, loc_y, lon, minutes_remaining, period, playoffs, season, seconds_remaining, shot_distance, shot_type, shot_zone_area, shot_zone_basic, shot_zone_range, game_date, matchup, opponent, shot_id]\n",
       "Index: []\n",
       "\n",
       "[0 rows x 22 columns]"
      ]
     },
     "execution_count": 73,
     "metadata": {},
     "output_type": "execute_result"
    }
   ],
   "source": [
    "data.head(0)  "
   ]
  },
  {
   "cell_type": "code",
   "execution_count": 74,
   "metadata": {},
   "outputs": [],
   "source": [
    "# Remaining time\n",
    "data['seconds_from_period_end'] = 60 * data['minutes_remaining'] + data['seconds_remaining']\n",
    "\n",
    "data.drop('minutes_remaining', axis=1, inplace=True)\n",
    "data.drop('seconds_remaining', axis=1, inplace=True)"
   ]
  },
  {
   "cell_type": "code",
   "execution_count": 75,
   "metadata": {},
   "outputs": [
    {
     "data": {
      "text/html": [
       "<div>\n",
       "<style scoped>\n",
       "    .dataframe tbody tr th:only-of-type {\n",
       "        vertical-align: middle;\n",
       "    }\n",
       "\n",
       "    .dataframe tbody tr th {\n",
       "        vertical-align: top;\n",
       "    }\n",
       "\n",
       "    .dataframe thead th {\n",
       "        text-align: right;\n",
       "    }\n",
       "</style>\n",
       "<table border=\"1\" class=\"dataframe\">\n",
       "  <thead>\n",
       "    <tr style=\"text-align: right;\">\n",
       "      <th></th>\n",
       "      <th>action_type</th>\n",
       "      <th>combined_shot_type</th>\n",
       "      <th>game_event_id</th>\n",
       "      <th>game_id</th>\n",
       "      <th>lat</th>\n",
       "      <th>loc_x</th>\n",
       "      <th>loc_y</th>\n",
       "      <th>lon</th>\n",
       "      <th>period</th>\n",
       "      <th>playoffs</th>\n",
       "      <th>...</th>\n",
       "      <th>shot_distance</th>\n",
       "      <th>shot_type</th>\n",
       "      <th>shot_zone_area</th>\n",
       "      <th>shot_zone_basic</th>\n",
       "      <th>shot_zone_range</th>\n",
       "      <th>game_date</th>\n",
       "      <th>matchup</th>\n",
       "      <th>opponent</th>\n",
       "      <th>shot_id</th>\n",
       "      <th>seconds_from_period_end</th>\n",
       "    </tr>\n",
       "  </thead>\n",
       "  <tbody>\n",
       "  </tbody>\n",
       "</table>\n",
       "<p>0 rows × 21 columns</p>\n",
       "</div>"
      ],
      "text/plain": [
       "Empty DataFrame\n",
       "Columns: [action_type, combined_shot_type, game_event_id, game_id, lat, loc_x, loc_y, lon, period, playoffs, season, shot_distance, shot_type, shot_zone_area, shot_zone_basic, shot_zone_range, game_date, matchup, opponent, shot_id, seconds_from_period_end]\n",
       "Index: []\n",
       "\n",
       "[0 rows x 21 columns]"
      ]
     },
     "execution_count": 75,
     "metadata": {},
     "output_type": "execute_result"
    }
   ],
   "source": [
    "data.head(0)  #21"
   ]
  },
  {
   "cell_type": "code",
   "execution_count": 76,
   "metadata": {},
   "outputs": [],
   "source": [
    "## Matchup - (away/home)\n",
    "data['away/home'] = data['matchup'].str.contains('vs').astype('int')\n",
    "data.drop('matchup', axis=1, inplace=True)"
   ]
  },
  {
   "cell_type": "code",
   "execution_count": 77,
   "metadata": {},
   "outputs": [],
   "source": [
    "# Game date\n",
    "data['game_date'] = pd.to_datetime(data['game_date'])\n",
    "data['game_year'] = data['game_date'].dt.year/1000\n",
    "data['game_month'] = data['game_date'].dt.month/10\n",
    "data['game_day'] = data['game_date'].dt.day/10\n",
    "data.drop('game_date', axis=1, inplace=True)"
   ]
  },
  {
   "cell_type": "code",
   "execution_count": 78,
   "metadata": {},
   "outputs": [
    {
     "data": {
      "text/html": [
       "<div>\n",
       "<style scoped>\n",
       "    .dataframe tbody tr th:only-of-type {\n",
       "        vertical-align: middle;\n",
       "    }\n",
       "\n",
       "    .dataframe tbody tr th {\n",
       "        vertical-align: top;\n",
       "    }\n",
       "\n",
       "    .dataframe thead th {\n",
       "        text-align: right;\n",
       "    }\n",
       "</style>\n",
       "<table border=\"1\" class=\"dataframe\">\n",
       "  <thead>\n",
       "    <tr style=\"text-align: right;\">\n",
       "      <th></th>\n",
       "      <th>action_type</th>\n",
       "      <th>combined_shot_type</th>\n",
       "      <th>game_event_id</th>\n",
       "      <th>game_id</th>\n",
       "      <th>lat</th>\n",
       "      <th>loc_x</th>\n",
       "      <th>loc_y</th>\n",
       "      <th>lon</th>\n",
       "      <th>period</th>\n",
       "      <th>playoffs</th>\n",
       "      <th>...</th>\n",
       "      <th>shot_zone_area</th>\n",
       "      <th>shot_zone_basic</th>\n",
       "      <th>shot_zone_range</th>\n",
       "      <th>opponent</th>\n",
       "      <th>shot_id</th>\n",
       "      <th>seconds_from_period_end</th>\n",
       "      <th>away/home</th>\n",
       "      <th>game_year</th>\n",
       "      <th>game_month</th>\n",
       "      <th>game_day</th>\n",
       "    </tr>\n",
       "  </thead>\n",
       "  <tbody>\n",
       "  </tbody>\n",
       "</table>\n",
       "<p>0 rows × 23 columns</p>\n",
       "</div>"
      ],
      "text/plain": [
       "Empty DataFrame\n",
       "Columns: [action_type, combined_shot_type, game_event_id, game_id, lat, loc_x, loc_y, lon, period, playoffs, season, shot_distance, shot_type, shot_zone_area, shot_zone_basic, shot_zone_range, opponent, shot_id, seconds_from_period_end, away/home, game_year, game_month, game_day]\n",
       "Index: []\n",
       "\n",
       "[0 rows x 23 columns]"
      ]
     },
     "execution_count": 78,
     "metadata": {},
     "output_type": "execute_result"
    }
   ],
   "source": [
    "data.head(0)"
   ]
  },
  {
   "cell_type": "code",
   "execution_count": 79,
   "metadata": {},
   "outputs": [],
   "source": [
    "# Partition interval\n",
    "data['loc_x'] = pd.cut(data['loc_x'], 50)\n",
    "data['loc_y'] = pd.cut(data['loc_y'], 50)\n",
    "data['lat'] = pd.cut(data['lat'],10)\n",
    "data['lon'] = pd.cut(data['lon'],10)\n",
    "data['seconds_from_period_end'] = pd.cut(data['seconds_from_period_end'],100)"
   ]
  },
  {
   "cell_type": "code",
   "execution_count": 80,
   "metadata": {},
   "outputs": [],
   "source": [
    "data_remov0 = data.copy()\n",
    "data_remov1 = data.drop('game_day',axis = 1, inplace = False)\n",
    "data_remov2 = data_remov1.drop('game_id',axis = 1, inplace = False)\n",
    "data_remov3 = data_remov1.drop('shot_zone_basic',axis = 1, inplace = False)"
   ]
  },
  {
   "cell_type": "code",
   "execution_count": 81,
   "metadata": {},
   "outputs": [],
   "source": [
    "#One Hot Coding\n",
    "# Get different feature data set\n",
    "categorial_cols = list(data_remov0 .columns.values)\n",
    "for col in categorial_cols:\n",
    "    dummies = pd.get_dummies(data_remov0 [col])\n",
    "    dummies = dummies.add_prefix(\"{}_\".format(col))\n",
    "    data_remov0.drop(col, axis=1, inplace=True)\n",
    "    data_remov0  = data_remov0 .join(dummies)\n",
    "data_submit = data_remov0[missing_value]"
   ]
  },
  {
   "cell_type": "code",
   "execution_count": 82,
   "metadata": {},
   "outputs": [
    {
     "name": "stdout",
     "output_type": "stream",
     "text": [
      "(5000, 33347)\n",
      "(30697, 33347)\n"
     ]
    }
   ],
   "source": [
    "# data removel the game day\n",
    "categorial_cols = list(data_remov1.columns.values)\n",
    "for col in categorial_cols:\n",
    "    dummies = pd.get_dummies(data_remov1[col])\n",
    "    dummies = dummies.add_prefix(\"{}_\".format(col))\n",
    "    data_remov1.drop(col, axis=1, inplace=True)\n",
    "    data_remov1 = data_remov1.join(dummies)\n",
    "data_submit = data_remov1[missing_value]\n",
    "print(data_submit.shape)\n",
    "print(data_remov1.shape)"
   ]
  },
  {
   "cell_type": "code",
   "execution_count": 83,
   "metadata": {},
   "outputs": [
    {
     "name": "stdout",
     "output_type": "stream",
     "text": [
      "(5000, 31788)\n",
      "(30697, 31788)\n"
     ]
    }
   ],
   "source": [
    "# data removel the game_day,game_id\n",
    "categorial_cols = list(data_remov2.columns.values)\n",
    "for col in categorial_cols:\n",
    "    dummies = pd.get_dummies(data_remov2[col])\n",
    "    dummies = dummies.add_prefix(\"{}_\".format(col))\n",
    "    data_remov2.drop(col, axis=1, inplace=True)\n",
    "    data_remov2 = data_remov2.join(dummies)\n",
    "data_submit = data_remov2[missing_value]\n",
    "print(data_submit.shape)\n",
    "print(data_remov2.shape)"
   ]
  },
  {
   "cell_type": "code",
   "execution_count": 84,
   "metadata": {},
   "outputs": [
    {
     "name": "stdout",
     "output_type": "stream",
     "text": [
      "(5000, 33340)\n",
      "(30697, 33340)\n"
     ]
    }
   ],
   "source": [
    "# data removel the game_day,game_id and shot_zone_basic\n",
    "categorial_cols = list(data_remov3.columns.values)\n",
    "for col in categorial_cols:\n",
    "    dummies = pd.get_dummies(data_remov3[col])\n",
    "    dummies = dummies.add_prefix(\"{}_\".format(col))\n",
    "    data_remov3.drop(col, axis=1, inplace=True)\n",
    "    data_remov3 = data_remov3.join(dummies)\n",
    "data_submit = data_remov3[missing_value]\n",
    "print(data_submit.shape)\n",
    "print(data_remov3.shape)"
   ]
  },
  {
   "cell_type": "markdown",
   "metadata": {},
   "source": [
    "### divide dataset"
   ]
  },
  {
   "cell_type": "code",
   "execution_count": 85,
   "metadata": {},
   "outputs": [
    {
     "data": {
      "text/plain": [
       "(30697, 33347)"
      ]
     },
     "execution_count": 85,
     "metadata": {},
     "output_type": "execute_result"
    }
   ],
   "source": [
    "data_remov1.shape"
   ]
  },
  {
   "cell_type": "code",
   "execution_count": 86,
   "metadata": {},
   "outputs": [],
   "source": [
    "# Separate dataset for training\n",
    "X0 = data_remov0[~missing_value]\n",
    "Y = ALL_Y[~missing_value]\n",
    "X_train0, X_test0, y_train0, y_test0 = train_test_split(X0, Y, test_size=0.33, random_state=123)\n",
    "X1 = data_remov1[~missing_value]\n",
    "X_train1, X_test1, y_train1, y_test1 = train_test_split(X1, Y, test_size=0.33, random_state=123)\n",
    "X2 = data_remov2[~missing_value]\n",
    "X_train2, X_test2, y_train2, y_test2 = train_test_split(X2, Y, test_size=0.33, random_state=123)\n",
    "X3 = data_remov3[~missing_value]\n",
    "X_train3, X_test3, y_train3, y_test3 = train_test_split(X3, Y, test_size=0.33, random_state=123)"
   ]
  },
  {
   "cell_type": "code",
   "execution_count": 87,
   "metadata": {},
   "outputs": [],
   "source": [
    "from sklearn.naive_bayes import MultinomialNB\n",
    "from sklearn.naive_bayes import GaussianNB\n",
    "from sklearn.metrics import accuracy_score\n",
    "from sklearn.linear_model import LogisticRegression\n",
    "from sklearn.metrics import accuracy_score"
   ]
  },
  {
   "cell_type": "markdown",
   "metadata": {},
   "source": [
    "# train model & predict"
   ]
  },
  {
   "cell_type": "markdown",
   "metadata": {},
   "source": [
    "completed data"
   ]
  },
  {
   "cell_type": "code",
   "execution_count": 88,
   "metadata": {
    "scrolled": true
   },
   "outputs": [
    {
     "name": "stderr",
     "output_type": "stream",
     "text": [
      "/Users/sea_crabcai_/opt/anaconda3/lib/python3.7/site-packages/sklearn/linear_model/logistic.py:432: FutureWarning: Default solver will be changed to 'lbfgs' in 0.22. Specify a solver to silence this warning.\n",
      "  FutureWarning)\n"
     ]
    },
    {
     "name": "stdout",
     "output_type": "stream",
     "text": [
      "Accuracy of Logistic Regression model 0: 0.652517\n"
     ]
    }
   ],
   "source": [
    "#LogisticRegression model\n",
    "clf_LR = LogisticRegression()\n",
    "L_mode0 = clf_LR.fit(X_train0, y_train0)\n",
    "y_pred0 = L_mode0.predict(X_test0)\n",
    "print(\"Accuracy of Logistic Regression model 0: %f\" % (accuracy_score(y_pred0, y_test0)))"
   ]
  },
  {
   "cell_type": "markdown",
   "metadata": {},
   "source": [
    "data with removing game_day col"
   ]
  },
  {
   "cell_type": "code",
   "execution_count": 89,
   "metadata": {},
   "outputs": [
    {
     "name": "stderr",
     "output_type": "stream",
     "text": [
      "/Users/sea_crabcai_/opt/anaconda3/lib/python3.7/site-packages/sklearn/linear_model/logistic.py:432: FutureWarning: Default solver will be changed to 'lbfgs' in 0.22. Specify a solver to silence this warning.\n",
      "  FutureWarning)\n"
     ]
    },
    {
     "name": "stdout",
     "output_type": "stream",
     "text": [
      "Accuracy of Logistic Regression 1: 0.654522\n"
     ]
    }
   ],
   "source": [
    "L_mode1 = clf_LR.fit(X_train1, y_train1)\n",
    "y_pred1 = L_mode1.predict(X_test1)\n",
    "print(\"Accuracy of Logistic Regression 1: %f\" % (accuracy_score(y_pred1, y_test1)))"
   ]
  },
  {
   "cell_type": "markdown",
   "metadata": {},
   "source": [
    "data with removing game_day and game_id cols"
   ]
  },
  {
   "cell_type": "code",
   "execution_count": 90,
   "metadata": {},
   "outputs": [
    {
     "name": "stderr",
     "output_type": "stream",
     "text": [
      "/Users/sea_crabcai_/opt/anaconda3/lib/python3.7/site-packages/sklearn/linear_model/logistic.py:432: FutureWarning: Default solver will be changed to 'lbfgs' in 0.22. Specify a solver to silence this warning.\n",
      "  FutureWarning)\n"
     ]
    },
    {
     "name": "stdout",
     "output_type": "stream",
     "text": [
      "Accuracy of Logistic Regression 2: 0.671737\n"
     ]
    }
   ],
   "source": [
    "L_mode2 = clf_LR.fit(X_train2, y_train2)\n",
    "y_pred2 = L_mode2.predict(X_test2)\n",
    "print(\"Accuracy of Logistic Regression 2: %f\" % (accuracy_score(y_pred2, y_test2)))"
   ]
  },
  {
   "cell_type": "markdown",
   "metadata": {},
   "source": [
    "data with removing game_day, game_id and shot_zone_basic cols"
   ]
  },
  {
   "cell_type": "code",
   "execution_count": 91,
   "metadata": {},
   "outputs": [
    {
     "name": "stderr",
     "output_type": "stream",
     "text": [
      "/Users/sea_crabcai_/opt/anaconda3/lib/python3.7/site-packages/sklearn/linear_model/logistic.py:432: FutureWarning: Default solver will be changed to 'lbfgs' in 0.22. Specify a solver to silence this warning.\n",
      "  FutureWarning)\n"
     ]
    },
    {
     "name": "stdout",
     "output_type": "stream",
     "text": [
      "Accuracy of Logistic Regression 3: 0.653814\n"
     ]
    }
   ],
   "source": [
    "L_mode3 = clf_LR.fit(X_train3, y_train3)\n",
    "y_pred3 = L_mode3.predict(X_test3)\n",
    "print(\"Accuracy of Logistic Regression 3: %f\" % (accuracy_score(y_pred3, y_test3)))"
   ]
  },
  {
   "cell_type": "markdown",
   "metadata": {},
   "source": [
    "### Cross validation : accuracy & F1 score"
   ]
  },
  {
   "cell_type": "code",
   "execution_count": 92,
   "metadata": {},
   "outputs": [],
   "source": [
    "from sklearn.model_selection import ShuffleSplit\n",
    "from sklearn.model_selection import cross_val_score\n",
    "cv = ShuffleSplit(n_splits=3, test_size=0.33, random_state=123)"
   ]
  },
  {
   "cell_type": "markdown",
   "metadata": {},
   "source": [
    " completed data"
   ]
  },
  {
   "cell_type": "code",
   "execution_count": 93,
   "metadata": {},
   "outputs": [
    {
     "name": "stderr",
     "output_type": "stream",
     "text": [
      "/Users/sea_crabcai_/opt/anaconda3/lib/python3.7/site-packages/sklearn/linear_model/logistic.py:432: FutureWarning: Default solver will be changed to 'lbfgs' in 0.22. Specify a solver to silence this warning.\n",
      "  FutureWarning)\n",
      "/Users/sea_crabcai_/opt/anaconda3/lib/python3.7/site-packages/sklearn/linear_model/logistic.py:432: FutureWarning: Default solver will be changed to 'lbfgs' in 0.22. Specify a solver to silence this warning.\n",
      "  FutureWarning)\n",
      "/Users/sea_crabcai_/opt/anaconda3/lib/python3.7/site-packages/sklearn/linear_model/logistic.py:432: FutureWarning: Default solver will be changed to 'lbfgs' in 0.22. Specify a solver to silence this warning.\n",
      "  FutureWarning)\n",
      "/Users/sea_crabcai_/opt/anaconda3/lib/python3.7/site-packages/sklearn/linear_model/logistic.py:432: FutureWarning: Default solver will be changed to 'lbfgs' in 0.22. Specify a solver to silence this warning.\n",
      "  FutureWarning)\n",
      "/Users/sea_crabcai_/opt/anaconda3/lib/python3.7/site-packages/sklearn/linear_model/logistic.py:432: FutureWarning: Default solver will be changed to 'lbfgs' in 0.22. Specify a solver to silence this warning.\n",
      "  FutureWarning)\n",
      "/Users/sea_crabcai_/opt/anaconda3/lib/python3.7/site-packages/sklearn/linear_model/logistic.py:432: FutureWarning: Default solver will be changed to 'lbfgs' in 0.22. Specify a solver to silence this warning.\n",
      "  FutureWarning)\n"
     ]
    },
    {
     "name": "stdout",
     "output_type": "stream",
     "text": [
      "Accuracy of model and its mean are : [0.65251739 0.64414574 0.6559368 ] 0.6508666430845419\n",
      "f1 score of model and its mean are : [0.56565954 0.5539462  0.56719074] 0.5622654964307312\n"
     ]
    }
   ],
   "source": [
    "LR_acc = cross_val_score(clf_LR, X0, Y, cv=cv, scoring='accuracy')\n",
    "LR_f1 = cross_val_score(clf_LR, X0, Y, cv=cv, scoring='f1')\n",
    "print(\"Accuracy of model and its mean are :\",LR_acc,LR_acc.mean())\n",
    "print(\"f1 score of model and its mean are :\" ,LR_f1,LR_f1.mean())"
   ]
  },
  {
   "cell_type": "markdown",
   "metadata": {},
   "source": [
    "data with removing game_day col"
   ]
  },
  {
   "cell_type": "code",
   "execution_count": 94,
   "metadata": {},
   "outputs": [
    {
     "name": "stderr",
     "output_type": "stream",
     "text": [
      "/Users/sea_crabcai_/opt/anaconda3/lib/python3.7/site-packages/sklearn/linear_model/logistic.py:432: FutureWarning: Default solver will be changed to 'lbfgs' in 0.22. Specify a solver to silence this warning.\n",
      "  FutureWarning)\n",
      "/Users/sea_crabcai_/opt/anaconda3/lib/python3.7/site-packages/sklearn/linear_model/logistic.py:432: FutureWarning: Default solver will be changed to 'lbfgs' in 0.22. Specify a solver to silence this warning.\n",
      "  FutureWarning)\n",
      "/Users/sea_crabcai_/opt/anaconda3/lib/python3.7/site-packages/sklearn/linear_model/logistic.py:432: FutureWarning: Default solver will be changed to 'lbfgs' in 0.22. Specify a solver to silence this warning.\n",
      "  FutureWarning)\n",
      "/Users/sea_crabcai_/opt/anaconda3/lib/python3.7/site-packages/sklearn/linear_model/logistic.py:432: FutureWarning: Default solver will be changed to 'lbfgs' in 0.22. Specify a solver to silence this warning.\n",
      "  FutureWarning)\n",
      "/Users/sea_crabcai_/opt/anaconda3/lib/python3.7/site-packages/sklearn/linear_model/logistic.py:432: FutureWarning: Default solver will be changed to 'lbfgs' in 0.22. Specify a solver to silence this warning.\n",
      "  FutureWarning)\n",
      "/Users/sea_crabcai_/opt/anaconda3/lib/python3.7/site-packages/sklearn/linear_model/logistic.py:432: FutureWarning: Default solver will be changed to 'lbfgs' in 0.22. Specify a solver to silence this warning.\n",
      "  FutureWarning)\n"
     ]
    },
    {
     "name": "stdout",
     "output_type": "stream",
     "text": [
      "Accuracy of model and its mean are : [0.65452187 0.6448532  0.65805919] 0.6524780882757536\n",
      "f1 score of model and its mean are : [0.56771909 0.55456965 0.56973294] 0.5640072276037782\n"
     ]
    }
   ],
   "source": [
    "LR_acc = cross_val_score(clf_LR, X1, Y, cv=cv, scoring='accuracy')\n",
    "LR_f1 = cross_val_score(clf_LR, X1, Y, cv=cv, scoring='f1')\n",
    "print(\"Accuracy of model and its mean are :\",LR_acc,LR_acc.mean())\n",
    "print(\"f1 score of model and its mean are :\" ,LR_f1,LR_f1.mean())"
   ]
  },
  {
   "cell_type": "markdown",
   "metadata": {},
   "source": [
    "data with removing game_day and game_id cols"
   ]
  },
  {
   "cell_type": "code",
   "execution_count": 96,
   "metadata": {},
   "outputs": [
    {
     "name": "stderr",
     "output_type": "stream",
     "text": [
      "/Users/sea_crabcai_/opt/anaconda3/lib/python3.7/site-packages/sklearn/linear_model/logistic.py:432: FutureWarning: Default solver will be changed to 'lbfgs' in 0.22. Specify a solver to silence this warning.\n",
      "  FutureWarning)\n",
      "/Users/sea_crabcai_/opt/anaconda3/lib/python3.7/site-packages/sklearn/linear_model/logistic.py:432: FutureWarning: Default solver will be changed to 'lbfgs' in 0.22. Specify a solver to silence this warning.\n",
      "  FutureWarning)\n",
      "/Users/sea_crabcai_/opt/anaconda3/lib/python3.7/site-packages/sklearn/linear_model/logistic.py:432: FutureWarning: Default solver will be changed to 'lbfgs' in 0.22. Specify a solver to silence this warning.\n",
      "  FutureWarning)\n",
      "/Users/sea_crabcai_/opt/anaconda3/lib/python3.7/site-packages/sklearn/linear_model/logistic.py:432: FutureWarning: Default solver will be changed to 'lbfgs' in 0.22. Specify a solver to silence this warning.\n",
      "  FutureWarning)\n",
      "/Users/sea_crabcai_/opt/anaconda3/lib/python3.7/site-packages/sklearn/linear_model/logistic.py:432: FutureWarning: Default solver will be changed to 'lbfgs' in 0.22. Specify a solver to silence this warning.\n",
      "  FutureWarning)\n",
      "/Users/sea_crabcai_/opt/anaconda3/lib/python3.7/site-packages/sklearn/linear_model/logistic.py:432: FutureWarning: Default solver will be changed to 'lbfgs' in 0.22. Specify a solver to silence this warning.\n",
      "  FutureWarning)\n"
     ]
    },
    {
     "name": "stdout",
     "output_type": "stream",
     "text": [
      "Accuracy of model and its mean are : [0.67173682 0.6604174  0.66619502] 0.6661164170891797\n",
      "f1 score of model and its mean are : [0.57496183 0.55473098 0.56277992] 0.5641575793811345\n"
     ]
    }
   ],
   "source": [
    "LR_acc = cross_val_score(clf_LR, X2, Y, cv=cv, scoring='accuracy')\n",
    "LR_f1 = cross_val_score(clf_LR, X2, Y, cv=cv, scoring='f1')\n",
    "print(\"Accuracy of model and its mean are :\",LR_acc,LR_acc.mean())\n",
    "print(\"f1 score of model and its mean are :\" ,LR_f1,LR_f1.mean())"
   ]
  },
  {
   "cell_type": "markdown",
   "metadata": {},
   "source": [
    "data with removing game_day, game_id and shot_zone_basic cols"
   ]
  },
  {
   "cell_type": "code",
   "execution_count": 97,
   "metadata": {},
   "outputs": [
    {
     "name": "stderr",
     "output_type": "stream",
     "text": [
      "/Users/sea_crabcai_/opt/anaconda3/lib/python3.7/site-packages/sklearn/linear_model/logistic.py:432: FutureWarning: Default solver will be changed to 'lbfgs' in 0.22. Specify a solver to silence this warning.\n",
      "  FutureWarning)\n",
      "/Users/sea_crabcai_/opt/anaconda3/lib/python3.7/site-packages/sklearn/linear_model/logistic.py:432: FutureWarning: Default solver will be changed to 'lbfgs' in 0.22. Specify a solver to silence this warning.\n",
      "  FutureWarning)\n",
      "/Users/sea_crabcai_/opt/anaconda3/lib/python3.7/site-packages/sklearn/linear_model/logistic.py:432: FutureWarning: Default solver will be changed to 'lbfgs' in 0.22. Specify a solver to silence this warning.\n",
      "  FutureWarning)\n",
      "/Users/sea_crabcai_/opt/anaconda3/lib/python3.7/site-packages/sklearn/linear_model/logistic.py:432: FutureWarning: Default solver will be changed to 'lbfgs' in 0.22. Specify a solver to silence this warning.\n",
      "  FutureWarning)\n",
      "/Users/sea_crabcai_/opt/anaconda3/lib/python3.7/site-packages/sklearn/linear_model/logistic.py:432: FutureWarning: Default solver will be changed to 'lbfgs' in 0.22. Specify a solver to silence this warning.\n",
      "  FutureWarning)\n",
      "/Users/sea_crabcai_/opt/anaconda3/lib/python3.7/site-packages/sklearn/linear_model/logistic.py:432: FutureWarning: Default solver will be changed to 'lbfgs' in 0.22. Specify a solver to silence this warning.\n",
      "  FutureWarning)\n"
     ]
    },
    {
     "name": "stdout",
     "output_type": "stream",
     "text": [
      "Accuracy of model and its mean are : [0.65381441 0.64497111 0.65841292] 0.6523994811932555\n",
      "f1 score of model and its mean are : [0.56721698 0.55385983 0.57011426] 0.5637303574980558\n"
     ]
    }
   ],
   "source": [
    "LR_acc = cross_val_score(clf_LR, X3, Y, cv=cv, scoring='accuracy')\n",
    "LR_f1 = cross_val_score(clf_LR, X3, Y, cv=cv, scoring='f1')\n",
    "print(\"Accuracy of model and its mean are :\",LR_acc,LR_acc.mean())\n",
    "print(\"f1 score of model and its mean are :\",LR_f1,LR_f1.mean())"
   ]
  },
  {
   "cell_type": "code",
   "execution_count": null,
   "metadata": {},
   "outputs": [],
   "source": []
  }
 ],
 "metadata": {
  "kernelspec": {
   "display_name": "Python 3",
   "language": "python",
   "name": "python3"
  },
  "language_info": {
   "codemirror_mode": {
    "name": "ipython",
    "version": 3
   },
   "file_extension": ".py",
   "mimetype": "text/x-python",
   "name": "python",
   "nbconvert_exporter": "python",
   "pygments_lexer": "ipython3",
   "version": "3.7.4"
  }
 },
 "nbformat": 4,
 "nbformat_minor": 2
}

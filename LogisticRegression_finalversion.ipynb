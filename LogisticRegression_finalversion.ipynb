{
 "cells": [
  {
   "cell_type": "markdown",
   "metadata": {},
   "source": [
    "### clean data"
   ]
  },
  {
   "cell_type": "code",
   "execution_count": 1,
   "metadata": {},
   "outputs": [],
   "source": [
    "import pandas as pd\n",
    "import numpy as np\n",
    "from sklearn.model_selection import train_test_split"
   ]
  },
  {
   "cell_type": "code",
   "execution_count": 2,
   "metadata": {},
   "outputs": [],
   "source": [
    "# load data set\n",
    "ALLdata = pd.read_csv('../Kobe-Project-master/data.csv')"
   ]
  },
  {
   "cell_type": "code",
   "execution_count": 3,
   "metadata": {},
   "outputs": [],
   "source": [
    "# deal with missing values and set as the test data set\n",
    "missing_value = ALLdata['shot_made_flag'].isnull()"
   ]
  },
  {
   "cell_type": "code",
   "execution_count": 4,
   "metadata": {},
   "outputs": [],
   "source": [
    "# create a copy of data set which will not pollute the original data set\n",
    "df = ALLdata.copy() \n",
    "ALL_Y = df['shot_made_flag'].copy()"
   ]
  },
  {
   "cell_type": "code",
   "execution_count": 5,
   "metadata": {},
   "outputs": [
    {
     "name": "stderr",
     "output_type": "stream",
     "text": [
      "/Users/sea_crabcai_/opt/anaconda3/lib/python3.7/site-packages/ipykernel_launcher.py:11: SettingWithCopyWarning: \n",
      "A value is trying to be set on a copy of a slice from a DataFrame\n",
      "\n",
      "See the caveats in the documentation: http://pandas.pydata.org/pandas-docs/stable/user_guide/indexing.html#returning-a-view-versus-a-copy\n",
      "  # This is added back by InteractiveShellApp.init_path()\n",
      "/Users/sea_crabcai_/opt/anaconda3/lib/python3.7/site-packages/ipykernel_launcher.py:12: SettingWithCopyWarning: \n",
      "A value is trying to be set on a copy of a slice from a DataFrame\n",
      "\n",
      "See the caveats in the documentation: http://pandas.pydata.org/pandas-docs/stable/user_guide/indexing.html#returning-a-view-versus-a-copy\n",
      "  if sys.path[0] == '':\n"
     ]
    }
   ],
   "source": [
    "# choose approriate methods to re-represent corresponding columns\n",
    "df['secs_from_period_end']   = 60*df['minutes_remaining']+df['seconds_remaining']\n",
    "df['secs_from_period_start'] = 60*(11-df['minutes_remaining'])+(60-df['seconds_remaining'])\n",
    "df['secs_from_start']   = (df['period'] <= 4).astype(int)*(df['period']-1)*12*60 + (df['period'] > 4).astype(int)*((df['period']-4)*5*60 + 3*12*60) + df['secs_from_period_start']\n",
    "df['dist'] = np.sqrt(df['loc_x']**2 + df['loc_y']**2)\n",
    "df['away/home'] = df['matchup'].str.contains('vs').astype('int')\n",
    "df['game_date'] = pd.to_datetime(df['game_date'])\n",
    "df['game_year'] = df['game_date'].dt.year\n",
    "loc_x_zero = (df['loc_x'] == 0)\n",
    "df['angle'] = np.array([0]*len(df))\n",
    "df['angle'][~loc_x_zero] = np.arctan(df['loc_y'][~loc_x_zero] / df['loc_x'][~loc_x_zero])\n",
    "df['angle'][loc_x_zero] = np.pi / 2"
   ]
  },
  {
   "cell_type": "code",
   "execution_count": 6,
   "metadata": {},
   "outputs": [],
   "source": [
    "# drop some columns\n",
    "to_drop = ['period', 'minutes_remaining', 'seconds_remaining', 'game_id', 'team_name', 'matchup', 'lon', 'lat',\\\n",
    "           'game_event_id', 'game_date', 'secs_from_period_start', 'season', 'team_id']\n",
    "\n",
    "df = df.drop(to_drop, axis = 1) "
   ]
  },
  {
   "cell_type": "code",
   "execution_count": 7,
   "metadata": {},
   "outputs": [],
   "source": [
    "# keep the same way of representing columns with one-hot as the bayes algorithm\n",
    "categorical_cols = ['action_type', 'combined_shot_type', 'shot_type', 'shot_zone_area',\n",
    "                        'shot_zone_basic', 'shot_zone_range', 'opponent']\n",
    "\n",
    "for col in categorical_cols:\n",
    "    dummies = pd.get_dummies(df[col])\n",
    "    dummies = dummies.add_prefix(\"{}_\".format(col))\n",
    "    df.drop(col, axis=1, inplace=True)\n",
    "    df = df.join(dummies)"
   ]
  },
  {
   "cell_type": "code",
   "execution_count": 8,
   "metadata": {},
   "outputs": [],
   "source": [
    "Y = df['shot_made_flag'].copy() # set the label column\n",
    "X = df.drop(['shot_made_flag'], axis = 1) # the processed data set "
   ]
  },
  {
   "cell_type": "code",
   "execution_count": 9,
   "metadata": {},
   "outputs": [],
   "source": [
    "# drop some columns and use them to train different models to get different accuracies for analysis\n",
    "data_remov0 = X.copy()\n",
    "data_remov1 = data_remov0.drop('shot_distance',axis = 1, inplace = False)\n",
    "data_remov2 = data_remov0.drop('playoffs',axis = 1, inplace = False)\n",
    "data_remov3 = data_remov0.drop('shot_id',axis = 1, inplace = False)"
   ]
  },
  {
   "cell_type": "markdown",
   "metadata": {},
   "source": [
    "### divide dataset"
   ]
  },
  {
   "cell_type": "code",
   "execution_count": 10,
   "metadata": {},
   "outputs": [],
   "source": [
    "# Separate dataset for training\n",
    "X0 = data_remov0[~missing_value]\n",
    "Y = ALL_Y[~missing_value]\n",
    "X_train0, X_test0, y_train0, y_test0 = train_test_split(X0, Y, test_size=0.33, random_state=123)\n",
    "X1 = data_remov1[~missing_value]\n",
    "X_train1, X_test1, y_train1, y_test1 = train_test_split(X1, Y, test_size=0.33, random_state=123)\n",
    "X2 = data_remov2[~missing_value]\n",
    "X_train2, X_test2, y_train2, y_test2 = train_test_split(X2, Y, test_size=0.33, random_state=123)\n",
    "X3 = data_remov3[~missing_value]\n",
    "X_train3, X_test3, y_train3, y_test3 = train_test_split(X3, Y, test_size=0.33, random_state=123)"
   ]
  },
  {
   "cell_type": "code",
   "execution_count": 11,
   "metadata": {},
   "outputs": [],
   "source": [
    "from sklearn.linear_model import LogisticRegression\n",
    "from sklearn.metrics import accuracy_score\n",
    "from sklearn.metrics import classification_report"
   ]
  },
  {
   "cell_type": "markdown",
   "metadata": {},
   "source": [
    "# train model & predict"
   ]
  },
  {
   "cell_type": "markdown",
   "metadata": {},
   "source": [
    "completed data"
   ]
  },
  {
   "cell_type": "code",
   "execution_count": 12,
   "metadata": {},
   "outputs": [],
   "source": [
    "target_names = ['shot_made_flag_0','shot_made_flag_1']"
   ]
  },
  {
   "cell_type": "code",
   "execution_count": 13,
   "metadata": {
    "scrolled": true
   },
   "outputs": [
    {
     "name": "stderr",
     "output_type": "stream",
     "text": [
      "/Users/sea_crabcai_/opt/anaconda3/lib/python3.7/site-packages/sklearn/linear_model/logistic.py:432: FutureWarning: Default solver will be changed to 'lbfgs' in 0.22. Specify a solver to silence this warning.\n",
      "  FutureWarning)\n"
     ]
    },
    {
     "name": "stdout",
     "output_type": "stream",
     "text": [
      "Accuracy of Logistic Regression model 0: 0.683528\n",
      "\n",
      "                  precision    recall  f1-score   support\n",
      "\n",
      "shot_made_flag_0       0.84      0.67      0.75      5941\n",
      "shot_made_flag_1       0.48      0.71      0.57      2540\n",
      "\n",
      "        accuracy                           0.68      8481\n",
      "       macro avg       0.66      0.69      0.66      8481\n",
      "    weighted avg       0.73      0.68      0.70      8481\n",
      "\n"
     ]
    }
   ],
   "source": [
    "# LogisticRegression model\n",
    "clf_LR = LogisticRegression()\n",
    "L_mode0 = clf_LR.fit(X_train0, y_train0)\n",
    "y_pred0 = L_mode0.predict(X_test0)\n",
    "print(\"Accuracy of Logistic Regression model 0: %f\\n\" % (accuracy_score(y_pred0, y_test0)))\n",
    "print(classification_report(y_pred0,y_test0,target_names=target_names))"
   ]
  },
  {
   "cell_type": "markdown",
   "metadata": {},
   "source": [
    "data with removing removing shot_distance column"
   ]
  },
  {
   "cell_type": "code",
   "execution_count": 14,
   "metadata": {},
   "outputs": [
    {
     "name": "stderr",
     "output_type": "stream",
     "text": [
      "/Users/sea_crabcai_/opt/anaconda3/lib/python3.7/site-packages/sklearn/linear_model/logistic.py:432: FutureWarning: Default solver will be changed to 'lbfgs' in 0.22. Specify a solver to silence this warning.\n",
      "  FutureWarning)\n"
     ]
    },
    {
     "name": "stdout",
     "output_type": "stream",
     "text": [
      "Accuracy of Logistic Regression 1: 0.684117\n",
      "\n",
      "                  precision    recall  f1-score   support\n",
      "\n",
      "shot_made_flag_0       0.85      0.67      0.75      5986\n",
      "shot_made_flag_1       0.48      0.71      0.57      2495\n",
      "\n",
      "        accuracy                           0.68      8481\n",
      "       macro avg       0.66      0.69      0.66      8481\n",
      "    weighted avg       0.74      0.68      0.70      8481\n",
      "\n"
     ]
    }
   ],
   "source": [
    "L_mode1 = clf_LR.fit(X_train1, y_train1)\n",
    "y_pred1 = L_mode1.predict(X_test1)\n",
    "print(\"Accuracy of Logistic Regression 1: %f\\n\" % (accuracy_score(y_pred1, y_test1)))\n",
    "print(classification_report(y_pred1,y_test1,target_names=target_names))"
   ]
  },
  {
   "cell_type": "markdown",
   "metadata": {},
   "source": [
    "data with removing playoffs column"
   ]
  },
  {
   "cell_type": "code",
   "execution_count": 15,
   "metadata": {},
   "outputs": [
    {
     "name": "stderr",
     "output_type": "stream",
     "text": [
      "/Users/sea_crabcai_/opt/anaconda3/lib/python3.7/site-packages/sklearn/linear_model/logistic.py:432: FutureWarning: Default solver will be changed to 'lbfgs' in 0.22. Specify a solver to silence this warning.\n",
      "  FutureWarning)\n"
     ]
    },
    {
     "name": "stdout",
     "output_type": "stream",
     "text": [
      "Accuracy of Logistic Regression 2: 0.683646\n",
      "\n",
      "                  precision    recall  f1-score   support\n",
      "\n",
      "shot_made_flag_0       0.85      0.67      0.75      5982\n",
      "shot_made_flag_1       0.48      0.71      0.57      2499\n",
      "\n",
      "        accuracy                           0.68      8481\n",
      "       macro avg       0.66      0.69      0.66      8481\n",
      "    weighted avg       0.74      0.68      0.70      8481\n",
      "\n"
     ]
    }
   ],
   "source": [
    "L_mode2 = clf_LR.fit(X_train2, y_train2)\n",
    "y_pred2 = L_mode2.predict(X_test2)\n",
    "print(\"Accuracy of Logistic Regression 2: %f\\n\" % (accuracy_score(y_pred2, y_test2)))\n",
    "print(classification_report(y_pred2,y_test2,target_names=target_names))"
   ]
  },
  {
   "cell_type": "markdown",
   "metadata": {},
   "source": [
    "data with removing shot_id column"
   ]
  },
  {
   "cell_type": "code",
   "execution_count": 17,
   "metadata": {},
   "outputs": [
    {
     "name": "stdout",
     "output_type": "stream",
     "text": [
      "Accuracy of Logistic Regression 3: 0.684589\n",
      "\n",
      "                  precision    recall  f1-score   support\n",
      "\n",
      "shot_made_flag_0       0.85      0.67      0.75      5974\n",
      "shot_made_flag_1       0.48      0.71      0.57      2507\n",
      "\n",
      "        accuracy                           0.68      8481\n",
      "       macro avg       0.66      0.69      0.66      8481\n",
      "    weighted avg       0.74      0.68      0.70      8481\n",
      "\n"
     ]
    },
    {
     "name": "stderr",
     "output_type": "stream",
     "text": [
      "/Users/sea_crabcai_/opt/anaconda3/lib/python3.7/site-packages/sklearn/linear_model/logistic.py:432: FutureWarning: Default solver will be changed to 'lbfgs' in 0.22. Specify a solver to silence this warning.\n",
      "  FutureWarning)\n"
     ]
    }
   ],
   "source": [
    "L_mode3 = clf_LR.fit(X_train3, y_train3)\n",
    "y_pred3 = L_mode3.predict(X_test3)\n",
    "print(\"Accuracy of Logistic Regression 3: %f\\n\" % (accuracy_score(y_pred3, y_test3)))\n",
    "print(classification_report(y_pred3,y_test3,target_names=target_names))"
   ]
  },
  {
   "cell_type": "markdown",
   "metadata": {},
   "source": [
    "### Cross validation : accuracy & F1 score"
   ]
  },
  {
   "cell_type": "code",
   "execution_count": 18,
   "metadata": {},
   "outputs": [],
   "source": [
    "from sklearn.model_selection import ShuffleSplit\n",
    "from sklearn.model_selection import cross_val_score\n",
    "cv = ShuffleSplit(n_splits=3, test_size=0.33, random_state=123)"
   ]
  },
  {
   "cell_type": "markdown",
   "metadata": {},
   "source": [
    " completed data"
   ]
  },
  {
   "cell_type": "code",
   "execution_count": 19,
   "metadata": {},
   "outputs": [
    {
     "name": "stderr",
     "output_type": "stream",
     "text": [
      "/Users/sea_crabcai_/opt/anaconda3/lib/python3.7/site-packages/sklearn/linear_model/logistic.py:432: FutureWarning: Default solver will be changed to 'lbfgs' in 0.22. Specify a solver to silence this warning.\n",
      "  FutureWarning)\n",
      "/Users/sea_crabcai_/opt/anaconda3/lib/python3.7/site-packages/sklearn/linear_model/logistic.py:432: FutureWarning: Default solver will be changed to 'lbfgs' in 0.22. Specify a solver to silence this warning.\n",
      "  FutureWarning)\n",
      "/Users/sea_crabcai_/opt/anaconda3/lib/python3.7/site-packages/sklearn/linear_model/logistic.py:432: FutureWarning: Default solver will be changed to 'lbfgs' in 0.22. Specify a solver to silence this warning.\n",
      "  FutureWarning)\n",
      "/Users/sea_crabcai_/opt/anaconda3/lib/python3.7/site-packages/sklearn/linear_model/logistic.py:432: FutureWarning: Default solver will be changed to 'lbfgs' in 0.22. Specify a solver to silence this warning.\n",
      "  FutureWarning)\n",
      "/Users/sea_crabcai_/opt/anaconda3/lib/python3.7/site-packages/sklearn/linear_model/logistic.py:432: FutureWarning: Default solver will be changed to 'lbfgs' in 0.22. Specify a solver to silence this warning.\n",
      "  FutureWarning)\n"
     ]
    },
    {
     "name": "stdout",
     "output_type": "stream",
     "text": [
      "Accuracy of model and its mean are : [0.68352789 0.65711591 0.6758637 ] 0.672169162441536\n",
      "f1 score of model and its mean are : [0.57274753 0.58097983 0.56191235] 0.5718799034399554\n"
     ]
    },
    {
     "name": "stderr",
     "output_type": "stream",
     "text": [
      "/Users/sea_crabcai_/opt/anaconda3/lib/python3.7/site-packages/sklearn/linear_model/logistic.py:432: FutureWarning: Default solver will be changed to 'lbfgs' in 0.22. Specify a solver to silence this warning.\n",
      "  FutureWarning)\n"
     ]
    }
   ],
   "source": [
    "LR_acc = cross_val_score(clf_LR, X0, Y, cv=cv, scoring='accuracy')\n",
    "LR_f1 = cross_val_score(clf_LR, X0, Y, cv=cv, scoring='f1')\n",
    "print(\"Accuracy of model and its mean are :\",LR_acc,LR_acc.mean())\n",
    "print(\"f1 score of model and its mean are :\" ,LR_f1,LR_f1.mean())"
   ]
  },
  {
   "cell_type": "markdown",
   "metadata": {},
   "source": [
    "data with removing shot_distance column"
   ]
  },
  {
   "cell_type": "code",
   "execution_count": 20,
   "metadata": {},
   "outputs": [
    {
     "name": "stderr",
     "output_type": "stream",
     "text": [
      "/Users/sea_crabcai_/opt/anaconda3/lib/python3.7/site-packages/sklearn/linear_model/logistic.py:432: FutureWarning: Default solver will be changed to 'lbfgs' in 0.22. Specify a solver to silence this warning.\n",
      "  FutureWarning)\n",
      "/Users/sea_crabcai_/opt/anaconda3/lib/python3.7/site-packages/sklearn/linear_model/logistic.py:432: FutureWarning: Default solver will be changed to 'lbfgs' in 0.22. Specify a solver to silence this warning.\n",
      "  FutureWarning)\n",
      "/Users/sea_crabcai_/opt/anaconda3/lib/python3.7/site-packages/sklearn/linear_model/logistic.py:432: FutureWarning: Default solver will be changed to 'lbfgs' in 0.22. Specify a solver to silence this warning.\n",
      "  FutureWarning)\n",
      "/Users/sea_crabcai_/opt/anaconda3/lib/python3.7/site-packages/sklearn/linear_model/logistic.py:432: FutureWarning: Default solver will be changed to 'lbfgs' in 0.22. Specify a solver to silence this warning.\n",
      "  FutureWarning)\n",
      "/Users/sea_crabcai_/opt/anaconda3/lib/python3.7/site-packages/sklearn/linear_model/logistic.py:432: FutureWarning: Default solver will be changed to 'lbfgs' in 0.22. Specify a solver to silence this warning.\n",
      "  FutureWarning)\n",
      "/Users/sea_crabcai_/opt/anaconda3/lib/python3.7/site-packages/sklearn/linear_model/logistic.py:432: FutureWarning: Default solver will be changed to 'lbfgs' in 0.22. Specify a solver to silence this warning.\n",
      "  FutureWarning)\n"
     ]
    },
    {
     "name": "stdout",
     "output_type": "stream",
     "text": [
      "Accuracy of model and its mean are : [0.68411744 0.67385921 0.67657116] 0.6781826042526431\n",
      "f1 score of model and its mean are : [0.57046657 0.56067344 0.55807959] 0.5630732004950542\n"
     ]
    }
   ],
   "source": [
    "LR_acc = cross_val_score(clf_LR, X1, Y, cv=cv, scoring='accuracy')\n",
    "LR_f1 = cross_val_score(clf_LR, X1, Y, cv=cv, scoring='f1')\n",
    "print(\"Accuracy of model and its mean are :\",LR_acc,LR_acc.mean())\n",
    "print(\"f1 score of model and its mean are :\" ,LR_f1,LR_f1.mean())"
   ]
  },
  {
   "cell_type": "markdown",
   "metadata": {},
   "source": [
    "data with removing playoffs column"
   ]
  },
  {
   "cell_type": "code",
   "execution_count": 21,
   "metadata": {},
   "outputs": [
    {
     "name": "stderr",
     "output_type": "stream",
     "text": [
      "/Users/sea_crabcai_/opt/anaconda3/lib/python3.7/site-packages/sklearn/linear_model/logistic.py:432: FutureWarning: Default solver will be changed to 'lbfgs' in 0.22. Specify a solver to silence this warning.\n",
      "  FutureWarning)\n",
      "/Users/sea_crabcai_/opt/anaconda3/lib/python3.7/site-packages/sklearn/linear_model/logistic.py:432: FutureWarning: Default solver will be changed to 'lbfgs' in 0.22. Specify a solver to silence this warning.\n",
      "  FutureWarning)\n",
      "/Users/sea_crabcai_/opt/anaconda3/lib/python3.7/site-packages/sklearn/linear_model/logistic.py:432: FutureWarning: Default solver will be changed to 'lbfgs' in 0.22. Specify a solver to silence this warning.\n",
      "  FutureWarning)\n",
      "/Users/sea_crabcai_/opt/anaconda3/lib/python3.7/site-packages/sklearn/linear_model/logistic.py:432: FutureWarning: Default solver will be changed to 'lbfgs' in 0.22. Specify a solver to silence this warning.\n",
      "  FutureWarning)\n",
      "/Users/sea_crabcai_/opt/anaconda3/lib/python3.7/site-packages/sklearn/linear_model/logistic.py:432: FutureWarning: Default solver will be changed to 'lbfgs' in 0.22. Specify a solver to silence this warning.\n",
      "  FutureWarning)\n"
     ]
    },
    {
     "name": "stdout",
     "output_type": "stream",
     "text": [
      "Accuracy of model and its mean are : [0.6836458  0.67397713 0.6758637 ] 0.6778288723814015\n",
      "f1 score of model and its mean are : [0.57010095 0.56090202 0.56330421] 0.5647690572949878\n"
     ]
    },
    {
     "name": "stderr",
     "output_type": "stream",
     "text": [
      "/Users/sea_crabcai_/opt/anaconda3/lib/python3.7/site-packages/sklearn/linear_model/logistic.py:432: FutureWarning: Default solver will be changed to 'lbfgs' in 0.22. Specify a solver to silence this warning.\n",
      "  FutureWarning)\n"
     ]
    }
   ],
   "source": [
    "LR_acc = cross_val_score(clf_LR, X2, Y, cv=cv, scoring='accuracy')\n",
    "LR_f1 = cross_val_score(clf_LR, X2, Y, cv=cv, scoring='f1')\n",
    "print(\"Accuracy of model and its mean are :\",LR_acc,LR_acc.mean())\n",
    "print(\"f1 score of model and its mean are :\" ,LR_f1,LR_f1.mean())"
   ]
  },
  {
   "cell_type": "markdown",
   "metadata": {},
   "source": [
    "data with removing shot_id column"
   ]
  },
  {
   "cell_type": "code",
   "execution_count": 22,
   "metadata": {},
   "outputs": [
    {
     "name": "stderr",
     "output_type": "stream",
     "text": [
      "/Users/sea_crabcai_/opt/anaconda3/lib/python3.7/site-packages/sklearn/linear_model/logistic.py:432: FutureWarning: Default solver will be changed to 'lbfgs' in 0.22. Specify a solver to silence this warning.\n",
      "  FutureWarning)\n",
      "/Users/sea_crabcai_/opt/anaconda3/lib/python3.7/site-packages/sklearn/linear_model/logistic.py:432: FutureWarning: Default solver will be changed to 'lbfgs' in 0.22. Specify a solver to silence this warning.\n",
      "  FutureWarning)\n",
      "/Users/sea_crabcai_/opt/anaconda3/lib/python3.7/site-packages/sklearn/linear_model/logistic.py:432: FutureWarning: Default solver will be changed to 'lbfgs' in 0.22. Specify a solver to silence this warning.\n",
      "  FutureWarning)\n",
      "/Users/sea_crabcai_/opt/anaconda3/lib/python3.7/site-packages/sklearn/linear_model/logistic.py:432: FutureWarning: Default solver will be changed to 'lbfgs' in 0.22. Specify a solver to silence this warning.\n",
      "  FutureWarning)\n",
      "/Users/sea_crabcai_/opt/anaconda3/lib/python3.7/site-packages/sklearn/linear_model/logistic.py:432: FutureWarning: Default solver will be changed to 'lbfgs' in 0.22. Specify a solver to silence this warning.\n",
      "  FutureWarning)\n",
      "/Users/sea_crabcai_/opt/anaconda3/lib/python3.7/site-packages/sklearn/linear_model/logistic.py:432: FutureWarning: Default solver will be changed to 'lbfgs' in 0.22. Specify a solver to silence this warning.\n",
      "  FutureWarning)\n"
     ]
    },
    {
     "name": "stdout",
     "output_type": "stream",
     "text": [
      "Accuracy of model and its mean are : [0.68458908 0.67468459 0.67657116] 0.6786149432063828\n",
      "f1 score of model and its mean are : [0.57193151 0.55635954 0.56034621] 0.5628790872349354\n"
     ]
    }
   ],
   "source": [
    "LR_acc = cross_val_score(clf_LR, X3, Y, cv=cv, scoring='accuracy')\n",
    "LR_f1 = cross_val_score(clf_LR, X3, Y, cv=cv, scoring='f1')\n",
    "print(\"Accuracy of model and its mean are :\",LR_acc,LR_acc.mean())\n",
    "print(\"f1 score of model and its mean are :\",LR_f1,LR_f1.mean())"
   ]
  }
 ],
 "metadata": {
  "kernelspec": {
   "display_name": "Python 3",
   "language": "python",
   "name": "python3"
  },
  "language_info": {
   "codemirror_mode": {
    "name": "ipython",
    "version": 3
   },
   "file_extension": ".py",
   "mimetype": "text/x-python",
   "name": "python",
   "nbconvert_exporter": "python",
   "pygments_lexer": "ipython3",
   "version": "3.7.4"
  }
 },
 "nbformat": 4,
 "nbformat_minor": 2
}

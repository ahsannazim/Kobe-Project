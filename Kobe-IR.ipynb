{
 "cells": [
  {
   "cell_type": "code",
   "execution_count": 365,
   "metadata": {},
   "outputs": [],
   "source": [
    "import pandas as pd\n",
    "import numpy as np\n",
    "import matplotlib.pyplot as plt\n",
    "import random"
   ]
  },
  {
   "cell_type": "code",
   "execution_count": 366,
   "metadata": {},
   "outputs": [],
   "source": [
    "# set a seed\n",
    "random.seed(123)\n",
    "np.random.seed(123)"
   ]
  },
  {
   "cell_type": "code",
   "execution_count": 375,
   "metadata": {},
   "outputs": [],
   "source": [
    "df=pd.read_csv(\"data/data.csv\")"
   ]
  },
  {
   "cell_type": "code",
   "execution_count": 376,
   "metadata": {},
   "outputs": [],
   "source": [
    "# extract data without null value and drop those meanless value\n",
    "df_all = df.loc[df.shot_made_flag.notnull(),:]\n",
    "df_all.drop('team_id',axis=1,inplace=True)\n",
    "df_all.drop('team_name',axis=1,inplace=True)\n",
    "df_all.drop('matchup',axis=1,inplace=True)"
   ]
  },
  {
   "cell_type": "code",
   "execution_count": 377,
   "metadata": {},
   "outputs": [],
   "source": [
    "#seperate the data set into train and test data set\n",
    "df_all = df_all.sample(frac=1.0, random_state=123)\n",
    "df_all = df_all.reset_index(drop=True)\n",
    "total = df_all.shape[0]\n",
    "train_num = int(total*0.7)\n",
    "train = df_all.loc[0:train_num]\n",
    "train.set_index('shot_id', inplace=True)\n",
    "Y_train = np.array(train['shot_made_flag'].values)\n",
    "train.drop('shot_made_flag',axis=1,inplace=True)\n",
    "\n",
    "test = df_all.loc[train_num+1:total]\n",
    "test.set_index('shot_id', inplace=True)\n",
    "Y_test = np.array(test['shot_made_flag'].values)\n",
    "test.drop('shot_made_flag',axis=1,inplace=True)"
   ]
  },
  {
   "cell_type": "code",
   "execution_count": 378,
   "metadata": {},
   "outputs": [],
   "source": [
    "# use to transform letters into calculable value\n",
    "letter_num = {'A':1,'a':1,'B':2,'b':2,'C':3,'c':3,'D':4,'d':4,'E':5,'e':5,'F':6,'f':6,'G':7,'g':7,'H':8,'h':8,'I':9,\n",
    "              'i':9,'J':1.1,'j':1.1,'K':1.2,'k':1.2,'L':1.3,'l':1.3,'M':1.4,'m':1.4,'N':1.5,'n':1.5,'O':1.6,'o':1.6,\n",
    "              'P':1.7,'p':1.7,'Q':1.8,'q':1.8,'R':1.9,'r':1.9,'S':2.1,'s':2.1,'T':2.2,'t':2.2,'U':2.3,'u':2.3,'V':2.4,\n",
    "              'v':2.4,'W':2.5,'w':2.5,'X':2.6,'x':2.6,'Y':2.7,'y':2.7,'Z':2.8,'z':2.8,'(':2.9,')':3.1,'-':3.2,'3':3.3,\n",
    "              ' ': 0}"
   ]
  },
  {
   "cell_type": "code",
   "execution_count": 379,
   "metadata": {},
   "outputs": [],
   "source": [
    "# a function used yo vectorise each row\n",
    "def features_vec(ori_arr):\n",
    "    X_vec = [[0 for j in range(len(ele))] for ele in ori_arr]\n",
    "    for i, arr in enumerate(ori_arr):\n",
    "        cur0 = 0\n",
    "        for a in arr[0]:\n",
    "            cur0 += letter_num[a]\n",
    "        arr[0] = cur0/10\n",
    "        \n",
    "        cur1 = 0\n",
    "        for b in arr[1]:\n",
    "            cur1 += letter_num[b]\n",
    "        arr[1] = cur1/10\n",
    "        \n",
    "        arr[2] = arr[2]/100\n",
    "        \n",
    "        cur3 = 0\n",
    "        for c in str(arr[3]):\n",
    "            cur3 += int(c)\n",
    "        arr[3] = cur3\n",
    "        \n",
    "        arr[4] = arr[4]/100\n",
    "        arr[5] = arr[5]/10\n",
    "        arr[6] = arr[6]/10\n",
    "        arr[7] = arr[7]/100\n",
    "        arr_11 = arr[11].replace('-','')\n",
    "        arr11 = 0\n",
    "        for m in arr_11:\n",
    "            arr11 += int(m)\n",
    "        arr[11] = arr11\n",
    "#         arr_11 = int(arr[11].replace('-',''))\n",
    "        arr[12] = arr[12]/10\n",
    "        arr[13] = arr[13]/10\n",
    "        arr[14] = int(arr[14][0])\n",
    "\n",
    "        if arr[15] == 'Left Side(L)':\n",
    "            arr[15] = 1\n",
    "        elif arr[15] == 'Left Side Center(LC)':\n",
    "            arr[15] = 2\n",
    "        elif arr[15] == 'Center(C)':\n",
    "            arr[15] = 3\n",
    "        elif arr[15] == 'Right Side Center(RC)':\n",
    "            arr[15] = 4\n",
    "        elif arr[15] == 'Right Side(R)':\n",
    "            arr[15] = 5\n",
    "        else:\n",
    "            arr[15] = 0\n",
    "            \n",
    "        cur16 = 0\n",
    "        for d in arr[16]:\n",
    "            cur16 += letter_num[d]\n",
    "        arr[16] = cur16/10\n",
    "\n",
    "        if arr[17] == 'Less Than 8 ft.':\n",
    "            arr[17] = 1\n",
    "        elif arr[17] == '8-16 ft.':\n",
    "            arr[17] = 2\n",
    "        elif arr[17] == '16-24 ft.':\n",
    "            arr[17] = 3\n",
    "        elif arr[17] == '24+ ft.':\n",
    "            arr[17] = 4\n",
    "        else:\n",
    "            arr[17] = 0\n",
    "\n",
    "        arr[18] = int(arr[18].replace('-','')[4:8])/1000\n",
    "\n",
    "        cur19 = 0\n",
    "        for x in arr[19]:\n",
    "            cur19 += letter_num[x]\n",
    "        \n",
    "        arr[19] = cur19\n",
    "        for j, x in enumerate(arr):\n",
    "            X_vec[i][j] = x\n",
    "        \n",
    "    \n",
    "    transform_arr = np.array(X_vec)\n",
    "    \n",
    "    return transform_arr\n",
    "    "
   ]
  },
  {
   "cell_type": "markdown",
   "metadata": {},
   "source": [
    "Vectorise features:"
   ]
  },
  {
   "cell_type": "code",
   "execution_count": 380,
   "metadata": {},
   "outputs": [],
   "source": [
    "# vectorise train and test data set\n",
    "train_arr=train.values\n",
    "train_vec = features_vec(train_arr)\n",
    "\n",
    "test_arr=test.values\n",
    "test_vec = features_vec(test_arr)"
   ]
  },
  {
   "cell_type": "code",
   "execution_count": 381,
   "metadata": {},
   "outputs": [
    {
     "name": "stdout",
     "output_type": "stream",
     "text": [
      "0.6585808794915035\n"
     ]
    }
   ],
   "source": [
    "# calculate prediction accuracy by logistic regression\n",
    "from sklearn.linear_model import LogisticRegression\n",
    "from sklearn.metrics import accuracy_score\n",
    "logreg = LogisticRegression(C=1e4, solver='lbfgs', max_iter=700)\n",
    "logreg.fit(train_vec, Y_train)\n",
    "X_pred = logreg.predict(test_vec)\n",
    "score = accuracy_score(Y_test, X_pred)\n",
    "print(score)"
   ]
  }
 ],
 "metadata": {
  "kernelspec": {
   "display_name": "Python 3",
   "language": "python",
   "name": "python3"
  },
  "language_info": {
   "codemirror_mode": {
    "name": "ipython",
    "version": 3
   },
   "file_extension": ".py",
   "mimetype": "text/x-python",
   "name": "python",
   "nbconvert_exporter": "python",
   "pygments_lexer": "ipython3",
   "version": "3.7.4"
  }
 },
 "nbformat": 4,
 "nbformat_minor": 2
}

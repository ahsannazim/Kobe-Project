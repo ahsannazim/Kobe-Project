{
 "cells": [
  {
   "cell_type": "markdown",
   "metadata": {},
   "source": [
    "# Libraries and Referenced Functions"
   ]
  },
  {
   "cell_type": "code",
   "execution_count": 1,
   "metadata": {},
   "outputs": [],
   "source": [
    "#https://www.kaggle.com/c/kobe-bryant-shot-selection"
   ]
  },
  {
   "cell_type": "code",
   "execution_count": 1,
   "metadata": {},
   "outputs": [],
   "source": [
    "# https://www.kaggle.com/dixhom/data-analysis-for-beginners\n",
    "\n",
    "import pandas as pd\n",
    "import sklearn as sk\n",
    "import numpy as np\n",
    "import matplotlib.pyplot as plt\n",
    "import time\n",
    "from matplotlib.patches import Circle, Rectangle, Arc\n",
    "import matplotlib.cm as cm\n",
    "from sklearn.model_selection import train_test_split\n",
    "from sklearn.naive_bayes import BernoulliNB, GaussianNB\n",
    "from sklearn.ensemble import RandomForestClassifier, GradientBoostingClassifier\n",
    "from sklearn.feature_selection import VarianceThreshold\n",
    "from sklearn.linear_model import LogisticRegression\n",
    "from sklearn.metrics import accuracy_score, f1_score\n",
    "from sklearn.tree import DecisionTreeClassifier\n",
    "import random\n",
    "import seaborn as sns\n",
    "%matplotlib inline\n",
    "\n",
    "random.seed(123)"
   ]
  },
  {
   "cell_type": "code",
   "execution_count": 2,
   "metadata": {},
   "outputs": [
    {
     "name": "stdout",
     "output_type": "stream",
     "text": [
      "(30697, 25)\n"
     ]
    },
    {
     "name": "stderr",
     "output_type": "stream",
     "text": [
      "C:\\Users\\bubba_000\\Anaconda3\\lib\\site-packages\\ipykernel_launcher.py:18: SettingWithCopyWarning: \n",
      "A value is trying to be set on a copy of a slice from a DataFrame\n",
      "\n",
      "See the caveats in the documentation: http://pandas.pydata.org/pandas-docs/stable/indexing.html#indexing-view-versus-copy\n",
      "C:\\Users\\bubba_000\\Anaconda3\\lib\\site-packages\\ipykernel_launcher.py:19: SettingWithCopyWarning: \n",
      "A value is trying to be set on a copy of a slice from a DataFrame\n",
      "\n",
      "See the caveats in the documentation: http://pandas.pydata.org/pandas-docs/stable/indexing.html#indexing-view-versus-copy\n"
     ]
    }
   ],
   "source": [
    "df_raw = pd.read_csv(\"data.csv\")\n",
    "print(df_raw.shape)\n",
    "df = df_raw.copy()\n",
    "\n",
    "df = df[pd.notnull(df['shot_made_flag'])]\n",
    "\n",
    "df['secs_from_period_end']   = 60*df['minutes_remaining']+df['seconds_remaining']\n",
    "df['secs_from_period_start'] = 60*(11-df['minutes_remaining'])+(60-df['seconds_remaining'])\n",
    "df['secs_from_start']   = (df['period'] <= 4).astype(int)*(df['period']-1)*12*60 + (df['period'] > 4).astype(int)*((df['period']-4)*5*60 + 3*12*60) + df['secs_from_period_start']\n",
    "df['dist'] = np.sqrt(df['loc_x']**2 + df['loc_y']**2)\n",
    "df['away/home'] = df['matchup'].str.contains('vs').astype('int')\n",
    "df['game_date'] = pd.to_datetime(df['game_date'])\n",
    "df['game_year'] = df['game_date'].dt.year\n",
    "\n",
    "loc_x_zero = (df['loc_x'] == 0)\n",
    "\n",
    "df['angle'] = np.array([0]*len(df))\n",
    "df['angle'][~loc_x_zero] = np.arctan(df['loc_y'][~loc_x_zero] / df['loc_x'][~loc_x_zero])\n",
    "df['angle'][loc_x_zero] = np.pi / 2\n",
    "\n",
    "to_drop = ['period', 'minutes_remaining', 'seconds_remaining', 'team_id', 'team_name', 'matchup', 'lon', 'lat',\n",
    "           'game_id', 'game_event_id', 'game_date', 'playoffs', 'shot_distance', 'secs_from_period_start', 'season', 'game_date']\n",
    "\n",
    "#df.set_index('shot_id', inplace=True)\n",
    "\n",
    "df = df.drop(to_drop, axis = 1)\n",
    "\n",
    "# under_10_secs = (df['secs_from_period_end'] < 10)==True\n",
    "# under_10 = [int(i) for i in under_10_secs]\n",
    "# last_10_bool = df[under_10_secs]\n",
    "# df['last_10s'] = under_10\n",
    "\n",
    "categorical_cols = ['action_type', 'combined_shot_type', 'shot_type', 'shot_zone_area',\n",
    "                        'shot_zone_basic', 'shot_zone_range', 'opponent']\n",
    "\n",
    "for col in categorical_cols:\n",
    "    dummies = pd.get_dummies(df[col])\n",
    "    dummies = dummies.add_prefix(\"{}_\".format(col))\n",
    "    df.drop(col, axis=1, inplace=True)\n",
    "    df = df.join(dummies)\n",
    "    "
   ]
  },
  {
   "cell_type": "code",
   "execution_count": 21,
   "metadata": {},
   "outputs": [
    {
     "name": "stdout",
     "output_type": "stream",
     "text": [
      "(30697, 25) Index(['action_type', 'combined_shot_type', 'game_event_id', 'game_id', 'lat',\n",
      "       'loc_x', 'loc_y', 'lon', 'minutes_remaining', 'period', 'playoffs',\n",
      "       'season', 'seconds_remaining', 'shot_distance', 'shot_made_flag',\n",
      "       'shot_type', 'shot_zone_area', 'shot_zone_basic', 'shot_zone_range',\n",
      "       'team_id', 'team_name', 'game_date', 'matchup', 'opponent', 'shot_id'],\n",
      "      dtype='object')\n",
      "\n"
     ]
    },
    {
     "data": {
      "text/plain": [
       "array([2000, 2001, 2002, 2003, 2004, 2005, 2006, 2007, 2008, 2009, 2010,\n",
       "       2011, 2012, 2013, 2014, 2015, 2016, 1996, 1997, 1998, 1999],\n",
       "      dtype=int64)"
      ]
     },
     "execution_count": 21,
     "metadata": {},
     "output_type": "execute_result"
    }
   ],
   "source": [
    "print(df_raw.shape, df_raw.columns)\n",
    "print()\n",
    "df['game_year'].unique()\n",
    "#df_raw[['game_date', 'season']]"
   ]
  },
  {
   "cell_type": "code",
   "execution_count": 12,
   "metadata": {},
   "outputs": [],
   "source": [
    "# cat = ['combined_shot_type', 'shot_type', 'shot_zone_area', 'shot_zone_basic', 'shot_zone_range', 'playoffs', 'opponent']\n",
    "# cat_acc = []\n",
    "# for i in cat:\n",
    "#     cat_acc.append(df_raw.groupby(i)['shot_made_flag'].mean())\n",
    "\n",
    "# for i in cat_acc:\n",
    "#     print('\\n\\n',i)"
   ]
  },
  {
   "cell_type": "code",
   "execution_count": 13,
   "metadata": {},
   "outputs": [],
   "source": [
    "# #c=df_raw.groupby('playoffs')['shot_made_flag'].mean()\n",
    "# c=df_raw.groupby('combined_shot_type')['shot_made_flag'].mean()\n",
    "# plt.figure()\n",
    "# plt.bar(c.index, c.values)\n",
    "# c"
   ]
  },
  {
   "cell_type": "code",
   "execution_count": 6,
   "metadata": {},
   "outputs": [],
   "source": [
    "# c = df_raw.groupby('minutes_remaining')['shot_made_flag'].mean()\n",
    "# plt.plot(c.index, c.values)\n",
    "# plt.xlabel('Mins Remaining', size='xx-large')\n",
    "# plt.ylabel('Shot accuracy', size='xx-large')\n",
    "# plt.scatter(c.index, c.values)\n",
    "# plt.savefig('accuracy_vs_mins_remaining')"
   ]
  },
  {
   "cell_type": "code",
   "execution_count": 7,
   "metadata": {},
   "outputs": [],
   "source": [
    "# c = df_raw.groupby('shot_distance')['shot_made_flag'].mean()\n",
    "# plt.plot(c.index, c.values, 'g')\n",
    "# plt.xlabel('Shot_distance', size='xx-large')\n",
    "# plt.ylabel('Shot accuracy', size='xx-large')\n",
    "# plt.savefig('accuracy_vs_shot_distance')"
   ]
  },
  {
   "cell_type": "code",
   "execution_count": 17,
   "metadata": {},
   "outputs": [],
   "source": [
    "# alpha = 0.02\n",
    "# plt.figure(figsize=(10,5))\n",
    "\n",
    "# # loc_x and loc_y\n",
    "# plt.subplot(121)\n",
    "# plt.scatter(df_raw.loc_x, df_raw.loc_y, color='green', alpha=0.01)\n",
    "# plt.title('loc x and loc y', size = 'xx-large')\n",
    "\n",
    "# # lat and lon\n",
    "# plt.subplot(122)\n",
    "# plt.scatter(df_raw.lon, df_raw.lat, color='red', alpha=0.01)\n",
    "# plt.title('lat and lon', size = 'xx-large')\n",
    "# plt.savefig('locxy_vs_latlon')\n"
   ]
  },
  {
   "cell_type": "code",
   "execution_count": 3,
   "metadata": {},
   "outputs": [],
   "source": [
    "y = df['shot_made_flag'].copy()\n",
    "X = df.drop(['shot_made_flag'], axis = 1)\n",
    "\n",
    "x_tr, x_test, y_tr, y_test = train_test_split(np.array(X), np.array(y), test_size = 0.33, random_state=123)"
   ]
  },
  {
   "cell_type": "markdown",
   "metadata": {},
   "source": [
    "### Cross Validation and Combining Algorithm Results"
   ]
  },
  {
   "cell_type": "code",
   "execution_count": 14,
   "metadata": {},
   "outputs": [
    {
     "name": "stdout",
     "output_type": "stream",
     "text": [
      "2.0576\n",
      "2.0545\n"
     ]
    }
   ],
   "source": [
    "rfc=RandomForestClassifier(n_estimators=100, max_depth=10)\n",
    "pred=rfc.fit(x_tr, y_tr).predict(x_test)\n",
    "accuracy_score(y_test,pred)\n",
    "print(0.6851+0.6878+0.6847)\n",
    "\n",
    "print(0.6852+0.6836+0.6857)"
   ]
  },
  {
   "cell_type": "code",
   "execution_count": 17,
   "metadata": {},
   "outputs": [
    {
     "name": "stderr",
     "output_type": "stream",
     "text": [
      "C:\\Users\\bubba_000\\Anaconda3\\lib\\site-packages\\sklearn\\linear_model\\logistic.py:432: FutureWarning: Default solver will be changed to 'lbfgs' in 0.22. Specify a solver to silence this warning.\n",
      "  FutureWarning)\n"
     ]
    }
   ],
   "source": [
    "models = []\n",
    "preds = []\n",
    "models.append(('Logistic Reg', LogisticRegression()))\n",
    "models.append(('Random Forest', RandomForestClassifier(n_estimators=100, max_depth=10)))\n",
    "models.append(('Bernoulli NB', BernoulliNB()))\n",
    "models.append(('Gaussian NB', GaussianNB()))\n",
    "models.append(('Gradient Boosting', GradientBoostingClassifier()))\n",
    "\n",
    "\n",
    "for name, model in models:\n",
    "    #CrossValidator()\n",
    "    preds.append(model.fit(x_tr, y_tr).predict(x_test))"
   ]
  },
  {
   "cell_type": "code",
   "execution_count": 18,
   "metadata": {},
   "outputs": [
    {
     "name": "stdout",
     "output_type": "stream",
     "text": [
      "Logistic Reg accuracy: 0.684 | F-score: 0.575\n",
      "Random Forest accuracy: 0.686 | F-score: 0.577\n",
      "Bernoulli NB accuracy: 0.656 | F-score: 0.559\n",
      "Gaussian NB accuracy: 0.642 | F-score: 0.513\n",
      "Gradient Boosting accuracy: 0.687 | F-score: 0.577\n",
      "Combined accuracy: 0.684 | F-score: 0.578\n"
     ]
    }
   ],
   "source": [
    "master_pred = sum(preds)\n",
    "\n",
    "for i in range(len(master_pred)):\n",
    "    if master_pred[i] >= len(preds)/2:\n",
    "        master_pred[i] = 1\n",
    "    else:\n",
    "        master_pred[i] = 0\n",
    "\n",
    "\n",
    "#preds.append(master_pred)\n",
    "\n",
    "for i, pred in enumerate(preds):\n",
    "    print(models[i][0], 'accuracy:', round(accuracy_score(y_test, pred), 3), '| F-score:', round(f1_score(y_test, pred), 3))\n",
    "print('Combined accuracy:',round(accuracy_score(y_test, master_pred), 3), '| F-score:', round(f1_score(y_test, master_pred), 3))"
   ]
  },
  {
   "cell_type": "code",
   "execution_count": 12,
   "metadata": {},
   "outputs": [],
   "source": [
    "# weighted combination\n",
    "names = []"
   ]
  },
  {
   "cell_type": "code",
   "execution_count": 43,
   "metadata": {},
   "outputs": [],
   "source": [
    "gbc = GradientBoostingClassifier()\n",
    "m = gbc.fit(x_tr, y_tr).predict(x_test)\n"
   ]
  },
  {
   "cell_type": "code",
   "execution_count": 42,
   "metadata": {},
   "outputs": [
    {
     "data": {
      "text/plain": [
       "0.686947293951185"
      ]
     },
     "execution_count": 42,
     "metadata": {},
     "output_type": "execute_result"
    }
   ],
   "source": [
    "accuracy_score(m, y_test)"
   ]
  },
  {
   "cell_type": "markdown",
   "metadata": {},
   "source": [
    "### Measuring Importance of Features"
   ]
  },
  {
   "cell_type": "code",
   "execution_count": null,
   "metadata": {},
   "outputs": [],
   "source": [
    "threshold = 0.90\n",
    "vt = VarianceThreshold().fit(x_tr)\n",
    "rfc =RandomForestClassifier(n_estimators=100, max_depth=10).fit(x_tr, y_tr)\n",
    "\n",
    "# Most important features\n",
    "feat_var_threshold = X.columns[vt.variances_ > threshold * (1-threshold)]\n",
    "feat_var_threshold\n",
    "feature_imp = pd.DataFrame(rfc.feature_importances_, index=X.columns, columns=[\"importance\"])"
   ]
  },
  {
   "cell_type": "code",
   "execution_count": 43,
   "metadata": {},
   "outputs": [
    {
     "data": {
      "text/html": [
       "<div>\n",
       "<style scoped>\n",
       "    .dataframe tbody tr th:only-of-type {\n",
       "        vertical-align: middle;\n",
       "    }\n",
       "\n",
       "    .dataframe tbody tr th {\n",
       "        vertical-align: top;\n",
       "    }\n",
       "\n",
       "    .dataframe thead th {\n",
       "        text-align: right;\n",
       "    }\n",
       "</style>\n",
       "<table border=\"1\" class=\"dataframe\">\n",
       "  <thead>\n",
       "    <tr style=\"text-align: right;\">\n",
       "      <th></th>\n",
       "      <th>importance</th>\n",
       "    </tr>\n",
       "  </thead>\n",
       "  <tbody>\n",
       "    <tr>\n",
       "      <th>action_type_Jump Shot</th>\n",
       "      <td>0.189189</td>\n",
       "    </tr>\n",
       "    <tr>\n",
       "      <th>dist</th>\n",
       "      <td>0.074334</td>\n",
       "    </tr>\n",
       "    <tr>\n",
       "      <th>action_type_Layup Shot</th>\n",
       "      <td>0.063115</td>\n",
       "    </tr>\n",
       "    <tr>\n",
       "      <th>combined_shot_type_Dunk</th>\n",
       "      <td>0.052239</td>\n",
       "    </tr>\n",
       "    <tr>\n",
       "      <th>combined_shot_type_Jump Shot</th>\n",
       "      <td>0.043400</td>\n",
       "    </tr>\n",
       "    <tr>\n",
       "      <th>loc_y</th>\n",
       "      <td>0.039048</td>\n",
       "    </tr>\n",
       "    <tr>\n",
       "      <th>secs_from_period_end</th>\n",
       "      <td>0.036629</td>\n",
       "    </tr>\n",
       "    <tr>\n",
       "      <th>shot_id</th>\n",
       "      <td>0.035782</td>\n",
       "    </tr>\n",
       "    <tr>\n",
       "      <th>action_type_Driving Layup Shot</th>\n",
       "      <td>0.031931</td>\n",
       "    </tr>\n",
       "    <tr>\n",
       "      <th>secs_from_start</th>\n",
       "      <td>0.031899</td>\n",
       "    </tr>\n",
       "    <tr>\n",
       "      <th>action_type_Running Jump Shot</th>\n",
       "      <td>0.030820</td>\n",
       "    </tr>\n",
       "    <tr>\n",
       "      <th>angle</th>\n",
       "      <td>0.030712</td>\n",
       "    </tr>\n",
       "    <tr>\n",
       "      <th>game_year</th>\n",
       "      <td>0.025854</td>\n",
       "    </tr>\n",
       "    <tr>\n",
       "      <th>loc_x</th>\n",
       "      <td>0.024669</td>\n",
       "    </tr>\n",
       "    <tr>\n",
       "      <th>shot_zone_basic_Restricted Area</th>\n",
       "      <td>0.023207</td>\n",
       "    </tr>\n",
       "    <tr>\n",
       "      <th>action_type_Slam Dunk Shot</th>\n",
       "      <td>0.020582</td>\n",
       "    </tr>\n",
       "    <tr>\n",
       "      <th>combined_shot_type_Layup</th>\n",
       "      <td>0.017986</td>\n",
       "    </tr>\n",
       "    <tr>\n",
       "      <th>action_type_Pullup Jump shot</th>\n",
       "      <td>0.015742</td>\n",
       "    </tr>\n",
       "    <tr>\n",
       "      <th>shot_zone_range_Less Than 8 ft.</th>\n",
       "      <td>0.014111</td>\n",
       "    </tr>\n",
       "    <tr>\n",
       "      <th>action_type_Driving Dunk Shot</th>\n",
       "      <td>0.011512</td>\n",
       "    </tr>\n",
       "    <tr>\n",
       "      <th>action_type_Turnaround Jump Shot</th>\n",
       "      <td>0.011395</td>\n",
       "    </tr>\n",
       "    <tr>\n",
       "      <th>away/home</th>\n",
       "      <td>0.010621</td>\n",
       "    </tr>\n",
       "    <tr>\n",
       "      <th>action_type_Jump Bank Shot</th>\n",
       "      <td>0.009745</td>\n",
       "    </tr>\n",
       "    <tr>\n",
       "      <th>shot_type_2PT Field Goal</th>\n",
       "      <td>0.008560</td>\n",
       "    </tr>\n",
       "    <tr>\n",
       "      <th>action_type_Fadeaway Jump Shot</th>\n",
       "      <td>0.007924</td>\n",
       "    </tr>\n",
       "    <tr>\n",
       "      <th>shot_type_3PT Field Goal</th>\n",
       "      <td>0.006468</td>\n",
       "    </tr>\n",
       "    <tr>\n",
       "      <th>shot_zone_area_Center(C)</th>\n",
       "      <td>0.005947</td>\n",
       "    </tr>\n",
       "    <tr>\n",
       "      <th>shot_zone_range_24+ ft.</th>\n",
       "      <td>0.005513</td>\n",
       "    </tr>\n",
       "    <tr>\n",
       "      <th>shot_zone_basic_Above the Break 3</th>\n",
       "      <td>0.005497</td>\n",
       "    </tr>\n",
       "    <tr>\n",
       "      <th>action_type_Tip Shot</th>\n",
       "      <td>0.005160</td>\n",
       "    </tr>\n",
       "    <tr>\n",
       "      <th>...</th>\n",
       "      <td>...</td>\n",
       "    </tr>\n",
       "    <tr>\n",
       "      <th>action_type_Driving Slam Dunk Shot</th>\n",
       "      <td>0.000456</td>\n",
       "    </tr>\n",
       "    <tr>\n",
       "      <th>action_type_Finger Roll Layup Shot</th>\n",
       "      <td>0.000408</td>\n",
       "    </tr>\n",
       "    <tr>\n",
       "      <th>shot_zone_basic_Right Corner 3</th>\n",
       "      <td>0.000317</td>\n",
       "    </tr>\n",
       "    <tr>\n",
       "      <th>shot_zone_basic_Left Corner 3</th>\n",
       "      <td>0.000312</td>\n",
       "    </tr>\n",
       "    <tr>\n",
       "      <th>opponent_BKN</th>\n",
       "      <td>0.000282</td>\n",
       "    </tr>\n",
       "    <tr>\n",
       "      <th>action_type_Driving Jump shot</th>\n",
       "      <td>0.000242</td>\n",
       "    </tr>\n",
       "    <tr>\n",
       "      <th>action_type_Jump Hook Shot</th>\n",
       "      <td>0.000197</td>\n",
       "    </tr>\n",
       "    <tr>\n",
       "      <th>action_type_Running Dunk Shot</th>\n",
       "      <td>0.000137</td>\n",
       "    </tr>\n",
       "    <tr>\n",
       "      <th>action_type_Running Finger Roll Shot</th>\n",
       "      <td>0.000133</td>\n",
       "    </tr>\n",
       "    <tr>\n",
       "      <th>action_type_Running Layup Shot</th>\n",
       "      <td>0.000113</td>\n",
       "    </tr>\n",
       "    <tr>\n",
       "      <th>action_type_Reverse Slam Dunk Shot</th>\n",
       "      <td>0.000106</td>\n",
       "    </tr>\n",
       "    <tr>\n",
       "      <th>action_type_Running Tip Shot</th>\n",
       "      <td>0.000102</td>\n",
       "    </tr>\n",
       "    <tr>\n",
       "      <th>action_type_Cutting Layup Shot</th>\n",
       "      <td>0.000100</td>\n",
       "    </tr>\n",
       "    <tr>\n",
       "      <th>action_type_Putback Layup Shot</th>\n",
       "      <td>0.000095</td>\n",
       "    </tr>\n",
       "    <tr>\n",
       "      <th>action_type_Putback Slam Dunk Shot</th>\n",
       "      <td>0.000084</td>\n",
       "    </tr>\n",
       "    <tr>\n",
       "      <th>action_type_Running Finger Roll Layup Shot</th>\n",
       "      <td>0.000077</td>\n",
       "    </tr>\n",
       "    <tr>\n",
       "      <th>action_type_Pullup Bank shot</th>\n",
       "      <td>0.000075</td>\n",
       "    </tr>\n",
       "    <tr>\n",
       "      <th>action_type_Putback Dunk Shot</th>\n",
       "      <td>0.000075</td>\n",
       "    </tr>\n",
       "    <tr>\n",
       "      <th>action_type_Turnaround Hook Shot</th>\n",
       "      <td>0.000065</td>\n",
       "    </tr>\n",
       "    <tr>\n",
       "      <th>action_type_Driving Floating Jump Shot</th>\n",
       "      <td>0.000030</td>\n",
       "    </tr>\n",
       "    <tr>\n",
       "      <th>action_type_Follow Up Dunk Shot</th>\n",
       "      <td>0.000029</td>\n",
       "    </tr>\n",
       "    <tr>\n",
       "      <th>action_type_Driving Hook Shot</th>\n",
       "      <td>0.000022</td>\n",
       "    </tr>\n",
       "    <tr>\n",
       "      <th>action_type_Tip Layup Shot</th>\n",
       "      <td>0.000016</td>\n",
       "    </tr>\n",
       "    <tr>\n",
       "      <th>action_type_Running Pull-Up Jump Shot</th>\n",
       "      <td>0.000011</td>\n",
       "    </tr>\n",
       "    <tr>\n",
       "      <th>action_type_Driving Bank shot</th>\n",
       "      <td>0.000010</td>\n",
       "    </tr>\n",
       "    <tr>\n",
       "      <th>action_type_Hook Bank Shot</th>\n",
       "      <td>0.000002</td>\n",
       "    </tr>\n",
       "    <tr>\n",
       "      <th>action_type_Running Reverse Layup Shot</th>\n",
       "      <td>0.000002</td>\n",
       "    </tr>\n",
       "    <tr>\n",
       "      <th>action_type_Driving Floating Bank Jump Shot</th>\n",
       "      <td>0.000000</td>\n",
       "    </tr>\n",
       "    <tr>\n",
       "      <th>action_type_Running Slam Dunk Shot</th>\n",
       "      <td>0.000000</td>\n",
       "    </tr>\n",
       "    <tr>\n",
       "      <th>action_type_Turnaround Finger Roll Shot</th>\n",
       "      <td>0.000000</td>\n",
       "    </tr>\n",
       "  </tbody>\n",
       "</table>\n",
       "<p>123 rows × 1 columns</p>\n",
       "</div>"
      ],
      "text/plain": [
       "                                             importance\n",
       "action_type_Jump Shot                          0.189189\n",
       "dist                                           0.074334\n",
       "action_type_Layup Shot                         0.063115\n",
       "combined_shot_type_Dunk                        0.052239\n",
       "combined_shot_type_Jump Shot                   0.043400\n",
       "loc_y                                          0.039048\n",
       "secs_from_period_end                           0.036629\n",
       "shot_id                                        0.035782\n",
       "action_type_Driving Layup Shot                 0.031931\n",
       "secs_from_start                                0.031899\n",
       "action_type_Running Jump Shot                  0.030820\n",
       "angle                                          0.030712\n",
       "game_year                                      0.025854\n",
       "loc_x                                          0.024669\n",
       "shot_zone_basic_Restricted Area                0.023207\n",
       "action_type_Slam Dunk Shot                     0.020582\n",
       "combined_shot_type_Layup                       0.017986\n",
       "action_type_Pullup Jump shot                   0.015742\n",
       "shot_zone_range_Less Than 8 ft.                0.014111\n",
       "action_type_Driving Dunk Shot                  0.011512\n",
       "action_type_Turnaround Jump Shot               0.011395\n",
       "away/home                                      0.010621\n",
       "action_type_Jump Bank Shot                     0.009745\n",
       "shot_type_2PT Field Goal                       0.008560\n",
       "action_type_Fadeaway Jump Shot                 0.007924\n",
       "shot_type_3PT Field Goal                       0.006468\n",
       "shot_zone_area_Center(C)                       0.005947\n",
       "shot_zone_range_24+ ft.                        0.005513\n",
       "shot_zone_basic_Above the Break 3              0.005497\n",
       "action_type_Tip Shot                           0.005160\n",
       "...                                                 ...\n",
       "action_type_Driving Slam Dunk Shot             0.000456\n",
       "action_type_Finger Roll Layup Shot             0.000408\n",
       "shot_zone_basic_Right Corner 3                 0.000317\n",
       "shot_zone_basic_Left Corner 3                  0.000312\n",
       "opponent_BKN                                   0.000282\n",
       "action_type_Driving Jump shot                  0.000242\n",
       "action_type_Jump Hook Shot                     0.000197\n",
       "action_type_Running Dunk Shot                  0.000137\n",
       "action_type_Running Finger Roll Shot           0.000133\n",
       "action_type_Running Layup Shot                 0.000113\n",
       "action_type_Reverse Slam Dunk Shot             0.000106\n",
       "action_type_Running Tip Shot                   0.000102\n",
       "action_type_Cutting Layup Shot                 0.000100\n",
       "action_type_Putback Layup Shot                 0.000095\n",
       "action_type_Putback Slam Dunk Shot             0.000084\n",
       "action_type_Running Finger Roll Layup Shot     0.000077\n",
       "action_type_Pullup Bank shot                   0.000075\n",
       "action_type_Putback Dunk Shot                  0.000075\n",
       "action_type_Turnaround Hook Shot               0.000065\n",
       "action_type_Driving Floating Jump Shot         0.000030\n",
       "action_type_Follow Up Dunk Shot                0.000029\n",
       "action_type_Driving Hook Shot                  0.000022\n",
       "action_type_Tip Layup Shot                     0.000016\n",
       "action_type_Running Pull-Up Jump Shot          0.000011\n",
       "action_type_Driving Bank shot                  0.000010\n",
       "action_type_Hook Bank Shot                     0.000002\n",
       "action_type_Running Reverse Layup Shot         0.000002\n",
       "action_type_Driving Floating Bank Jump Shot    0.000000\n",
       "action_type_Running Slam Dunk Shot             0.000000\n",
       "action_type_Turnaround Finger Roll Shot        0.000000\n",
       "\n",
       "[123 rows x 1 columns]"
      ]
     },
     "execution_count": 43,
     "metadata": {},
     "output_type": "execute_result"
    }
   ],
   "source": [
    "f=feature_imp.sort_values('importance', ascending=False)\n",
    "f"
   ]
  },
  {
   "cell_type": "code",
   "execution_count": null,
   "metadata": {},
   "outputs": [],
   "source": []
  }
 ],
 "metadata": {
  "kernelspec": {
   "display_name": "Python 3",
   "language": "python",
   "name": "python3"
  },
  "language_info": {
   "codemirror_mode": {
    "name": "ipython",
    "version": 3
   },
   "file_extension": ".py",
   "mimetype": "text/x-python",
   "name": "python",
   "nbconvert_exporter": "python",
   "pygments_lexer": "ipython3",
   "version": "3.7.3"
  }
 },
 "nbformat": 4,
 "nbformat_minor": 2
}
